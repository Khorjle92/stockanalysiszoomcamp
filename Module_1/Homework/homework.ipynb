{
  "cells": [
    {
      "cell_type": "code",
      "execution_count": 3,
      "metadata": {
        "id": "upIkgS85ZLbF"
      },
      "outputs": [],
      "source": [
        "# IMPORTS\n",
        "import numpy as np\n",
        "import pandas as pd\n",
        "\n",
        "#Fin Data Sources\n",
        "import yfinance as yf\n",
        "import pandas_datareader as pdr\n",
        "\n",
        "#Data viz\n",
        "import plotly.graph_objs as go\n",
        "import plotly.express as px\n",
        "\n",
        "import time\n",
        "from datetime import date\n"
      ]
    },
    {
      "cell_type": "markdown",
      "metadata": {
        "id": "_sMONMJHjXkM"
      },
      "source": [
        "# 1) \n"
      ]
    },
    {
      "cell_type": "code",
      "execution_count": 4,
      "metadata": {},
      "outputs": [
        {
          "name": "stdout",
          "output_type": "stream",
          "text": [
            "Year = 2024; month= 4; day=17\n",
            "Period for indexes: 1954-04-17 to 2024-04-17 \n"
          ]
        }
      ],
      "source": [
        "end = date.today()\n",
        "print(f'Year = {end.year}; month= {end.month}; day={end.day}')\n",
        "\n",
        "start = date(year=end.year-70, month=end.month, day=end.day)\n",
        "print(f'Period for indexes: {start} to {end} ')"
      ]
    },
    {
      "cell_type": "code",
      "execution_count": 5,
      "metadata": {},
      "outputs": [
        {
          "data": {
            "text/html": [
              "<div>\n",
              "<style scoped>\n",
              "    .dataframe tbody tr th:only-of-type {\n",
              "        vertical-align: middle;\n",
              "    }\n",
              "\n",
              "    .dataframe tbody tr th {\n",
              "        vertical-align: top;\n",
              "    }\n",
              "\n",
              "    .dataframe thead th {\n",
              "        text-align: right;\n",
              "    }\n",
              "</style>\n",
              "<table border=\"1\" class=\"dataframe\">\n",
              "  <thead>\n",
              "    <tr style=\"text-align: right;\">\n",
              "      <th></th>\n",
              "      <th>GDPC1</th>\n",
              "    </tr>\n",
              "    <tr>\n",
              "      <th>DATE</th>\n",
              "      <th></th>\n",
              "    </tr>\n",
              "  </thead>\n",
              "  <tbody>\n",
              "    <tr>\n",
              "      <th>1954-07-01</th>\n",
              "      <td>2880.482</td>\n",
              "    </tr>\n",
              "    <tr>\n",
              "      <th>1954-10-01</th>\n",
              "      <td>2936.852</td>\n",
              "    </tr>\n",
              "    <tr>\n",
              "      <th>1955-01-01</th>\n",
              "      <td>3020.746</td>\n",
              "    </tr>\n",
              "    <tr>\n",
              "      <th>1955-04-01</th>\n",
              "      <td>3069.910</td>\n",
              "    </tr>\n",
              "    <tr>\n",
              "      <th>1955-07-01</th>\n",
              "      <td>3111.379</td>\n",
              "    </tr>\n",
              "  </tbody>\n",
              "</table>\n",
              "</div>"
            ],
            "text/plain": [
              "               GDPC1\n",
              "DATE                \n",
              "1954-07-01  2880.482\n",
              "1954-10-01  2936.852\n",
              "1955-01-01  3020.746\n",
              "1955-04-01  3069.910\n",
              "1955-07-01  3111.379"
            ]
          },
          "execution_count": 5,
          "metadata": {},
          "output_type": "execute_result"
        }
      ],
      "source": [
        "gdpc1 = pdr.DataReader(\"GDPC1\", \"fred\", start=start)\n",
        "gdpc1.head()"
      ]
    },
    {
      "cell_type": "code",
      "execution_count": 7,
      "metadata": {},
      "outputs": [
        {
          "name": "stdout",
          "output_type": "stream",
          "text": [
            "The YoY growth is 3.1%\n"
          ]
        }
      ],
      "source": [
        "gdpc1['gdpc1_us_yoy'] = gdpc1.GDPC1/gdpc1.GDPC1.shift(4)-1\n",
        "# gdpc1['gdppot_us_qoq'] = gdppot.GDPPOT/gdppot.GDPPOT.shift(4)-1\n",
        "gdpc1.tail()\n",
        "value = round(gdpc1['gdpc1_us_yoy'][-1]*100,1)\n",
        "print(f'The YoY growth is {value}%')"
      ]
    },
    {
      "cell_type": "markdown",
      "metadata": {},
      "source": [
        "# 2) "
      ]
    },
    {
      "cell_type": "code",
      "execution_count": 8,
      "metadata": {},
      "outputs": [
        {
          "data": {
            "text/html": [
              "<div>\n",
              "<style scoped>\n",
              "    .dataframe tbody tr th:only-of-type {\n",
              "        vertical-align: middle;\n",
              "    }\n",
              "\n",
              "    .dataframe tbody tr th {\n",
              "        vertical-align: top;\n",
              "    }\n",
              "\n",
              "    .dataframe thead th {\n",
              "        text-align: right;\n",
              "    }\n",
              "</style>\n",
              "<table border=\"1\" class=\"dataframe\">\n",
              "  <thead>\n",
              "    <tr style=\"text-align: right;\">\n",
              "      <th></th>\n",
              "      <th>DATE</th>\n",
              "      <th>DGS10</th>\n",
              "    </tr>\n",
              "  </thead>\n",
              "  <tbody>\n",
              "    <tr>\n",
              "      <th>0</th>\n",
              "      <td>1962-01-02</td>\n",
              "      <td>4.06</td>\n",
              "    </tr>\n",
              "    <tr>\n",
              "      <th>1</th>\n",
              "      <td>1962-01-03</td>\n",
              "      <td>4.03</td>\n",
              "    </tr>\n",
              "    <tr>\n",
              "      <th>2</th>\n",
              "      <td>1962-01-04</td>\n",
              "      <td>3.99</td>\n",
              "    </tr>\n",
              "    <tr>\n",
              "      <th>3</th>\n",
              "      <td>1962-01-05</td>\n",
              "      <td>4.02</td>\n",
              "    </tr>\n",
              "    <tr>\n",
              "      <th>4</th>\n",
              "      <td>1962-01-08</td>\n",
              "      <td>4.03</td>\n",
              "    </tr>\n",
              "  </tbody>\n",
              "</table>\n",
              "</div>"
            ],
            "text/plain": [
              "        DATE  DGS10\n",
              "0 1962-01-02   4.06\n",
              "1 1962-01-03   4.03\n",
              "2 1962-01-04   3.99\n",
              "3 1962-01-05   4.02\n",
              "4 1962-01-08   4.03"
            ]
          },
          "execution_count": 8,
          "metadata": {},
          "output_type": "execute_result"
        }
      ],
      "source": [
        "dgs10 = pdr.DataReader(\"DGS10\", \"fred\", start=start)\n",
        "dgs10.head()\n",
        "dgs10 = dgs10.reset_index()\n",
        "\n",
        "dgs10.head()\n"
      ]
    },
    {
      "cell_type": "code",
      "execution_count": 9,
      "metadata": {},
      "outputs": [
        {
          "data": {
            "text/html": [
              "<div>\n",
              "<style scoped>\n",
              "    .dataframe tbody tr th:only-of-type {\n",
              "        vertical-align: middle;\n",
              "    }\n",
              "\n",
              "    .dataframe tbody tr th {\n",
              "        vertical-align: top;\n",
              "    }\n",
              "\n",
              "    .dataframe thead th {\n",
              "        text-align: right;\n",
              "    }\n",
              "</style>\n",
              "<table border=\"1\" class=\"dataframe\">\n",
              "  <thead>\n",
              "    <tr style=\"text-align: right;\">\n",
              "      <th></th>\n",
              "      <th>DGS2</th>\n",
              "    </tr>\n",
              "    <tr>\n",
              "      <th>DATE</th>\n",
              "      <th></th>\n",
              "    </tr>\n",
              "  </thead>\n",
              "  <tbody>\n",
              "    <tr>\n",
              "      <th>1976-06-01</th>\n",
              "      <td>7.26</td>\n",
              "    </tr>\n",
              "    <tr>\n",
              "      <th>1976-06-02</th>\n",
              "      <td>7.23</td>\n",
              "    </tr>\n",
              "    <tr>\n",
              "      <th>1976-06-03</th>\n",
              "      <td>7.22</td>\n",
              "    </tr>\n",
              "    <tr>\n",
              "      <th>1976-06-04</th>\n",
              "      <td>7.12</td>\n",
              "    </tr>\n",
              "    <tr>\n",
              "      <th>1976-06-07</th>\n",
              "      <td>7.09</td>\n",
              "    </tr>\n",
              "  </tbody>\n",
              "</table>\n",
              "</div>"
            ],
            "text/plain": [
              "            DGS2\n",
              "DATE            \n",
              "1976-06-01  7.26\n",
              "1976-06-02  7.23\n",
              "1976-06-03  7.22\n",
              "1976-06-04  7.12\n",
              "1976-06-07  7.09"
            ]
          },
          "execution_count": 9,
          "metadata": {},
          "output_type": "execute_result"
        }
      ],
      "source": [
        "dgs2 = pdr.DataReader(\"DGS2\", \"fred\", start=start)\n",
        "dgs2.head()"
      ]
    },
    {
      "cell_type": "code",
      "execution_count": 13,
      "metadata": {},
      "outputs": [
        {
          "name": "stdout",
          "output_type": "stream",
          "text": [
            "The min value is -1.1\n"
          ]
        },
        {
          "name": "stderr",
          "output_type": "stream",
          "text": [
            "C:\\Users\\Eugene\\AppData\\Local\\Temp\\ipykernel_22124\\960155264.py:7: SettingWithCopyWarning: \n",
            "A value is trying to be set on a copy of a slice from a DataFrame.\n",
            "Try using .loc[row_indexer,col_indexer] = value instead\n",
            "\n",
            "See the caveats in the documentation: https://pandas.pydata.org/pandas-docs/stable/user_guide/indexing.html#returning-a-view-versus-a-copy\n",
            "  yr2000onwards['Diff'] = yr2000onwards['DGS10']- yr2000onwards['DGS2']\n"
          ]
        }
      ],
      "source": [
        "dgs10 = pdr.DataReader(\"DGS10\", \"fred\", start=start)\n",
        "dgs2 = pdr.DataReader(\"DGS2\", \"fred\", start=start)\n",
        "merged_df = pd.merge(dgs2, dgs10, on='DATE', how='inner')\n",
        "merged_df = merged_df.reset_index()\n",
        "merged_df['DATE'] = pd.to_datetime(merged_df['DATE'])\n",
        "yr2000onwards = merged_df[merged_df['DATE'].dt.year >= 2000]\n",
        "yr2000onwards['Diff'] = yr2000onwards['DGS10']- yr2000onwards['DGS2']\n",
        "yr2000onwards['Diff'].describe()\n",
        "print(f\"The min value is {round(yr2000onwards['Diff'].min(),1)}\")"
      ]
    },
    {
      "cell_type": "markdown",
      "metadata": {
        "id": "tGBFWT0fAabM"
      },
      "source": [
        "## 3) "
      ]
    },
    {
      "cell_type": "code",
      "execution_count": 51,
      "metadata": {},
      "outputs": [
        {
          "name": "stderr",
          "output_type": "stream",
          "text": [
            "[*********************100%%**********************]  1 of 1 completed"
          ]
        },
        {
          "name": "stderr",
          "output_type": "stream",
          "text": [
            "\n",
            "[*********************100%%**********************]  1 of 1 completed"
          ]
        },
        {
          "name": "stdout",
          "output_type": "stream",
          "text": [
            "The higher growing index is ^GSPC with a growth of 81%.\n"
          ]
        },
        {
          "name": "stderr",
          "output_type": "stream",
          "text": [
            "\n"
          ]
        }
      ],
      "source": [
        "import yfinance as yf\n",
        "import pandas as pd\n",
        "\n",
        "# Download historical daily index prices for S&P 500 (^GSPC) and IPC Mexico (^MXX)\n",
        "start_date = '2019-04-09'\n",
        "end_date = '2024-04-09'\n",
        "\n",
        "gspc = yf.download('^GSPC', start=start_date, end=end_date)\n",
        "mxx = yf.download('^MXX', start=start_date, end=end_date)\n",
        "\n",
        "gspc.head()\n",
        "# Calculate growth ratio for each index\n",
        "gspc_growth_ratio = gspc['Adj Close'][-1] / gspc['Adj Close'][0]\n",
        "mxx_growth_ratio = mxx['Adj Close'][-1] / mxx['Adj Close'][0]\n",
        "\n",
        "# Select the higher growing index\n",
        "if gspc_growth_ratio > mxx_growth_ratio:\n",
        "    higher_growing_index = '^GSPC'\n",
        "    growth_percentage = round((gspc_growth_ratio - 1) * 100)\n",
        "else:\n",
        "    higher_growing_index = '^MXX'\n",
        "    growth_percentage = round((mxx_growth_ratio - 1) * 100)\n",
        "\n",
        "# Print the growth percentage\n",
        "print(f\"The higher growing index is {higher_growing_index} with a growth of {growth_percentage}%.\")\n"
      ]
    },
    {
      "cell_type": "markdown",
      "metadata": {},
      "source": [
        "## 4)\n"
      ]
    },
    {
      "cell_type": "code",
      "execution_count": 17,
      "metadata": {},
      "outputs": [
        {
          "name": "stderr",
          "output_type": "stream",
          "text": [
            "[*********************100%%**********************]  1 of 1 completed\n",
            "[*********************100%%**********************]  1 of 1 completed\n",
            "[*********************100%%**********************]  1 of 1 completed\n",
            "[*********************100%%**********************]  1 of 1 completed\n",
            "[*********************100%%**********************]  1 of 1 completed\n",
            "[*********************100%%**********************]  1 of 1 completed"
          ]
        },
        {
          "name": "stdout",
          "output_type": "stream",
          "text": [
            "{'2222.SR': 0.21, 'BRK-B': 0.21, 'AAPL': 0.37, 'MSFT': 0.42, 'GOOG': 0.39, 'JPM': 0.28}\n",
            "The stock with the largest range ratio in 2023 is MSFT with a ratio of 0.42.\n"
          ]
        },
        {
          "name": "stderr",
          "output_type": "stream",
          "text": [
            "\n"
          ]
        }
      ],
      "source": [
        "import yfinance as yf\n",
        "\n",
        "# Define the list of stock tickers\n",
        "stocks = ['2222.SR', 'BRK-B', 'AAPL', 'MSFT', 'GOOG', 'JPM']\n",
        "\n",
        "# Create an empty dictionary to store the range ratios for each stock\n",
        "range_ratios = {}\n",
        "\n",
        "# Loop through each stock ticker\n",
        "for stock in stocks:\n",
        "    # Download 2023 daily OHLCV data for the current stock\n",
        "    data = yf.download(stock, start='2023-01-01', end='2023-12-31')\n",
        "    \n",
        "    # Calculate the maximum and minimum Adj. Close prices for the current stock\n",
        "    max_price = data['Adj Close'].max()\n",
        "    min_price = data['Adj Close'].min()\n",
        "    \n",
        "    # Calculate the range ratio for the current stock\n",
        "    range_ratio = (max_price - min_price) / max_price\n",
        "    \n",
        "    # Store the range ratio for the current stock in the dictionary\n",
        "    range_ratios[stock] = round(range_ratio, 2)\n",
        "\n",
        "\n",
        "# Find the stock with the largest range ratio\n",
        "print(range_ratios)\n",
        "largest_range_stock = max(range_ratios, key=range_ratios.get)\n",
        "largest_range_ratio = range_ratios[largest_range_stock]\n",
        "\n",
        "print(f\"The stock with the largest range ratio in 2023 is {largest_range_stock} with a ratio of {largest_range_ratio}.\")\n"
      ]
    },
    {
      "cell_type": "markdown",
      "metadata": {},
      "source": [
        "## 5)"
      ]
    },
    {
      "cell_type": "code",
      "execution_count": 18,
      "metadata": {},
      "outputs": [
        {
          "name": "stderr",
          "output_type": "stream",
          "text": [
            "[*********************100%%**********************]  1 of 1 completed"
          ]
        },
        {
          "name": "stdout",
          "output_type": "stream",
          "text": [
            "0.9107640000000001\n",
            "2222.SR\n",
            "33.04999923706055\n"
          ]
        },
        {
          "name": "stderr",
          "output_type": "stream",
          "text": [
            "\n",
            "[*********************100%%**********************]  1 of 1 completed"
          ]
        },
        {
          "name": "stdout",
          "output_type": "stream",
          "text": [
            "0.0\n",
            "BRK-B\n",
            "356.6600036621094\n"
          ]
        },
        {
          "name": "stderr",
          "output_type": "stream",
          "text": [
            "\n",
            "[*********************100%%**********************]  1 of 1 completed"
          ]
        },
        {
          "name": "stdout",
          "output_type": "stream",
          "text": [
            "0.95\n",
            "AAPL\n",
            "192.52999877929688\n"
          ]
        },
        {
          "name": "stderr",
          "output_type": "stream",
          "text": [
            "\n",
            "[*********************100%%**********************]  1 of 1 completed"
          ]
        },
        {
          "name": "stdout",
          "output_type": "stream",
          "text": [
            "2.79\n",
            "MSFT\n",
            "376.0400085449219\n"
          ]
        },
        {
          "name": "stderr",
          "output_type": "stream",
          "text": [
            "\n",
            "[*********************100%%**********************]  1 of 1 completed"
          ]
        },
        {
          "name": "stdout",
          "output_type": "stream",
          "text": [
            "0.0\n",
            "GOOG\n",
            "140.92999267578125\n"
          ]
        },
        {
          "name": "stderr",
          "output_type": "stream",
          "text": [
            "\n",
            "[*********************100%%**********************]  1 of 1 completed"
          ]
        },
        {
          "name": "stdout",
          "output_type": "stream",
          "text": [
            "4.05\n",
            "JPM\n",
            "170.10000610351562\n",
            "{'2222.SR': 0.9107640000000001, 'BRK-B': 0.0, 'AAPL': 0.95, 'MSFT': 2.79, 'GOOG': 0.0, 'JPM': 4.05}\n",
            "The stock with the largest dividend yield in 2023 is 2222.SR with a yield of 2.8%.\n"
          ]
        },
        {
          "name": "stderr",
          "output_type": "stream",
          "text": [
            "\n"
          ]
        }
      ],
      "source": [
        "import yfinance as yf\n",
        "\n",
        "# Define the list of stock tickers\n",
        "stocks = ['2222.SR', 'BRK-B', 'AAPL', 'MSFT', 'GOOG', 'JPM']\n",
        "\n",
        "# Create an empty dictionary to store the total dividends and last closing prices for each stock\n",
        "dividendss = {}\n",
        "closing_prices = {}\n",
        "\n",
        "# Loop through each stock ticker\n",
        "for stock in stocks:\n",
        "    # Download all dividends paid in 2023 for the current stock\n",
        "    data = yf.Ticker(stock)\n",
        "    dividends = data.get_actions()\n",
        "    # print(dividends.index)\n",
        "    # print(dividends.index.year)\n",
        "    dividends_since_2023 = dividends[dividends.index.year == 2023 ]\n",
        "    total_dividends_since_2023 = dividends_since_2023['Dividends'].sum()\n",
        "    print (total_dividends_since_2023)\n",
        "    dividendss[stock] = total_dividends_since_2023\n",
        "    \n",
        "    # Get the closing price (Adj. Close) at the last trading day of the year for the current stock\n",
        "    last_day_data = yf.download(stock, start='2023-12-01', end='2023-12-31')\n",
        "    print(stock)\n",
        "    # print(last_day_data)\n",
        "    print(last_day_data['Close'][-1])\n",
        "    closing_prices[stock] = last_day_data['Close'][-1]\n",
        "\n",
        "print(dividendss)\n",
        "# Calculate the dividend yield for each stock\n",
        "dividend_yields = {stock: (dividendss[stock] / closing_prices[stock]) * 100 for stock in stocks}\n",
        "\n",
        "# Find the maximum dividend yield among all stocks\n",
        "max_dividend_yield_stock = max(dividend_yields, key=dividend_yields.get)\n",
        "max_dividend_yield = round(dividend_yields[max_dividend_yield_stock], 1)\n",
        "\n",
        "print(f\"The stock with the largest dividend yield in 2023 is {max_dividend_yield_stock} with a yield of {max_dividend_yield}%.\")"
      ]
    },
    {
      "cell_type": "markdown",
      "metadata": {},
      "source": [
        "## 6)"
      ]
    },
    {
      "cell_type": "code",
      "execution_count": 31,
      "metadata": {},
      "outputs": [
        {
          "name": "stderr",
          "output_type": "stream",
          "text": [
            "[*********************100%%**********************]  9 of 9 completed\n"
          ]
        },
        {
          "data": {
            "image/png": "[encoded data removed]",
            "text/plain": [
              "<Figure size 640x480 with 1 Axes>"
            ]
          },
          "metadata": {},
          "output_type": "display_data"
        }
      ],
      "source": [
        "import yfinance as yf\n",
        "import matplotlib.pyplot as plt\n",
        "\n",
        "# Define a list of ETF tickers along with the S&P 500 ticker\n",
        "tickers = ['SPY', 'XLV', 'XLK', 'XLC','XLF','XLI','XLY','XLE','XLP']  # Example ETFs representing the S&P 500\n",
        "\n",
        "# Download historical data for each ticker\n",
        "data = yf.download(tickers, start='2020-01-01', end='2021-01-01', group_by='ticker')\n",
        "\n",
        "# Plot the Adj Close prices for each ticker\n",
        "for ticker in tickers:\n",
        "    plt.plot(data[ticker]['Adj Close'], label=ticker)\n",
        "\n",
        "# Plot S&P 500 as a reference\n",
        "# plt.plot(data['SPY']['Adj Close'], label='SPY', linestyle='--', color='black')\n",
        "\n",
        "# Add labels and legend\n",
        "plt.xlabel('Date')\n",
        "plt.ylabel('Price')\n",
        "plt.title('ETFs vs S&P 500')\n",
        "plt.legend()\n",
        "\n",
        "# Show plot\n",
        "plt.show()\n"
      ]
    },
    {
      "cell_type": "markdown",
      "metadata": {},
      "source": [
        "## 7)"
      ]
    },
    {
      "cell_type": "markdown",
      "metadata": {},
      "source": [
        "Perhaps to look at the sector of the stocks with positive earnings and find the stocks in the sector that has upcoming earning"
      ]
    },
    {
      "cell_type": "markdown",
      "metadata": {},
      "source": []
    }
  ],
  "metadata": {
    "colab": {
      "collapsed_sections": [
        "_sMONMJHjXkM"
      ],
      "provenance": []
    },
    "kernelspec": {
      "display_name": "Python 3",
      "name": "python3"
    },
    "language_info": {
      "codemirror_mode": {
        "name": "ipython",
        "version": 3
      },
      "file_extension": ".py",
      "mimetype": "text/x-python",
      "name": "python",
      "nbconvert_exporter": "python",
      "pygments_lexer": "ipython3",
      "version": "3.11.4"
    }
  },
  "nbformat": 4,
  "nbformat_minor": 0
}
